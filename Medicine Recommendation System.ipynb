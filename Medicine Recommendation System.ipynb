{
 "cells": [
  {
   "cell_type": "code",
   "execution_count": 2,
   "id": "a72009cc-893d-446c-bd8b-76e8c9b68ec5",
   "metadata": {},
   "outputs": [],
   "source": [
    "import pandas as pd\n",
    "import numpy as np\n",
    "from sklearn.model_selection import train_test_split\n",
    "from sklearn.preprocessing import LabelEncoder\n",
    "from sklearn.svm import SVC\n",
    "from sklearn.metrics import accuracy_score\n",
    "import pickle\n",
    "\n",
    "# Load necessary datasets\n",
    "description = pd.read_csv(\"C:\\\\Users\\\\DELLL\\\\Desktop\\\\JUPYTER\\\\medicines\\\\description.csv\")\n",
    "precautions = pd.read_csv(\"C:\\\\Users\\\\DELLL\\\\Desktop\\\\JUPYTER\\\\medicines\\\\precautions_df.csv\")\n",
    "medications = pd.read_csv(\"C:\\\\Users\\\\DELLL\\\\Desktop\\\\JUPYTER\\\\medicines\\\\medications.csv\")\n",
    "diets = pd.read_csv(\"C:\\\\Users\\\\DELLL\\\\Desktop\\\\JUPYTER\\\\medicines\\\\diets.csv\")\n",
    "workout = pd.read_csv(\"C:\\\\Users\\\\DELLL\\\\Desktop\\\\JUPYTER\\\\medicines\\\\workout_df.csv\")\n",
    "\n",
    "# Load the training dataset\n",
    "dataset = pd.read_csv(\"C:\\\\Users\\\\DELLL\\\\Desktop\\\\JUPYTER\\\\Training.csv\")\n",
    "X = dataset.drop('prognosis', axis=1)\n",
    "y = dataset['prognosis']\n"
   ]
  },
  {
   "cell_type": "code",
   "execution_count": 5,
   "id": "d783133a-7bc6-45da-a559-cae6b0cb02af",
   "metadata": {},
   "outputs": [],
   "source": [
    "# Create symptoms dictionary\n",
    "symptoms_dict = {symptom: index for index, symptom in enumerate(X.columns)}\n",
    "\n",
    "# Create diseases list\n",
    "diseases_list = sorted(y.unique())\n"
   ]
  },
  {
   "cell_type": "code",
   "execution_count": 6,
   "id": "9f90d15a-e2a4-4435-90a1-6948cea51d20",
   "metadata": {},
   "outputs": [],
   "source": [
    "# Encode prognosis labels\n",
    "le = LabelEncoder()\n",
    "y_encoded = le.fit_transform(y)\n",
    "\n",
    "# Split the dataset\n",
    "X_train, X_test, y_train, y_test = train_test_split(X, y_encoded, test_size=0.3, random_state=20)\n"
   ]
  },
  {
   "cell_type": "code",
   "execution_count": 7,
   "id": "26955eb2-30a8-497b-82bc-67ae6e74488a",
   "metadata": {},
   "outputs": [
    {
     "name": "stdout",
     "output_type": "stream",
     "text": [
      "SVC Accuracy: 1.0\n"
     ]
    }
   ],
   "source": [
    "# Train the SVC model\n",
    "svc = SVC(kernel='linear')\n",
    "svc.fit(X_train, y_train)\n",
    "\n",
    "# Test the model\n",
    "y_pred = svc.predict(X_test)\n",
    "accuracy = accuracy_score(y_test, y_pred)\n",
    "\n",
    "# Print model performance\n",
    "print(f\"SVC Accuracy: {accuracy}\")\n",
    "\n",
    "# Save the trained model\n",
    "pickle.dump(svc, open('svc.pkl', 'wb'))\n"
   ]
  },
  {
   "cell_type": "code",
   "execution_count": 8,
   "id": "5956961e-be37-4f5f-86a8-f3315a460123",
   "metadata": {},
   "outputs": [],
   "source": [
    "# Load the model for future use\n",
    "svc = pickle.load(open('svc.pkl', 'rb'))\n"
   ]
  },
  {
   "cell_type": "code",
   "execution_count": 9,
   "id": "b314b70f-ac3e-4871-9595-79f0d0341b7c",
   "metadata": {},
   "outputs": [],
   "source": [
    "# Function to predict the disease based on symptoms\n",
    "def get_predicted_value(patient_symptoms):\n",
    "    input_vector = np.zeros(len(symptoms_dict))\n",
    "    for item in patient_symptoms:\n",
    "        if item in symptoms_dict:\n",
    "            input_vector[symptoms_dict[item]] = 1\n",
    "        else:\n",
    "            print(f\"Warning: Symptom '{item}' not found in the dictionary.\")\n",
    "    \n",
    "    # Reshape input_vector as it needs to be 2D for SVC\n",
    "    input_vector = np.array(input_vector).reshape(1, -1)\n",
    "    \n",
    "    prediction_index = svc.predict(input_vector)[0]\n",
    "    return diseases_list[prediction_index]\n"
   ]
  },
  {
   "cell_type": "code",
   "execution_count": 10,
   "id": "904b515a-4805-4d4a-8294-964ae797c447",
   "metadata": {},
   "outputs": [],
   "source": [
    "# Helper function to retrieve details about the predicted disease\n",
    "def helper(dis):\n",
    "    # Disease description\n",
    "    desc = description[description['Disease'] == dis]['Description'].values\n",
    "    desc = \" \".join(desc) if len(desc) > 0 else \"No description available.\"\n",
    "\n",
    "    # Precautions\n",
    "    pre = precautions[precautions['Disease'] == dis][['Precaution_1', 'Precaution_2', 'Precaution_3', 'Precaution_4']].values\n",
    "    pre = pre[0] if len(pre) > 0 else [\"No precautions available.\"]\n",
    "\n",
    "    # Medications\n",
    "    med = medications[medications['Disease'] == dis]['Medication'].values\n",
    "    med = med if len(med) > 0 else [\"No medications available.\"]\n",
    "\n",
    "    # Diet\n",
    "    die = diets[diets['Disease'] == dis]['Diet'].values\n",
    "    die = die if len(die) > 0 else [\"No diet recommendations available.\"]\n",
    "\n",
    "    # Workout\n",
    "    wrkout = workout[workout['disease'] == dis]['workout'].values\n",
    "    wrkout = wrkout if len(wrkout) > 0 else [\"No workout recommendations available.\"]\n",
    "\n",
    "    return desc, pre, med, die, wrkout\n"
   ]
  },
  {
   "cell_type": "code",
   "execution_count": 11,
   "id": "475abc9f-82be-4ca9-bc69-397c2e343782",
   "metadata": {},
   "outputs": [
    {
     "name": "stdin",
     "output_type": "stream",
     "text": [
      "Enter your symptoms (comma-separated):  itching,continuous_sneezing,shivering\n"
     ]
    },
    {
     "name": "stdout",
     "output_type": "stream",
     "text": [
      "================= Predicted Disease ==============\n",
      "Allergy\n",
      "================= Description ==================\n",
      "Allergy is an immune system reaction to a substance in the environment.\n",
      "================= Precautions ==================\n",
      "1. apply calamine\n",
      "2. cover area with bandage\n",
      "3. nan\n",
      "4. use ice to compress itching\n",
      "================= Medications ==================\n",
      "1. ['Antihistamines', 'Decongestants', 'Epinephrine', 'Corticosteroids', 'Immunotherapy']\n",
      "================= Workout ==================\n",
      "1. Avoid allergenic foods\n",
      "2. Consume anti-inflammatory foods\n",
      "3. Include omega-3 fatty acids\n",
      "4. Stay hydrated\n",
      "5. Eat foods rich in vitamin C\n",
      "6. Include quercetin-rich foods\n",
      "7. Consume local honey\n",
      "8. Limit processed foods\n",
      "9. Include ginger in diet\n",
      "10. Avoid artificial additives\n",
      "================= Diets ==================\n",
      "1. ['Elimination Diet', 'Omega-3-rich foods', 'Vitamin C-rich foods', 'Quercetin-rich foods', 'Probiotics']\n"
     ]
    },
    {
     "name": "stderr",
     "output_type": "stream",
     "text": [
      "C:\\Users\\DELLL\\anaconda3\\Lib\\site-packages\\sklearn\\base.py:439: UserWarning: X does not have valid feature names, but SVC was fitted with feature names\n",
      "  warnings.warn(\n"
     ]
    }
   ],
   "source": [
    "# Test the system by accepting user symptoms and predicting the disease\n",
    "symptoms = input(\"Enter your symptoms (comma-separated): \")\n",
    "user_symptoms = [s.strip() for s in symptoms.split(',')]\n",
    "\n",
    "# Predict the disease\n",
    "predicted_disease = get_predicted_value(user_symptoms)\n",
    "\n",
    "# Get the disease details\n",
    "desc, pre, med, die, wrkout = helper(predicted_disease)\n",
    "\n",
    "# Output results\n",
    "print(\"================= Predicted Disease ==============\")\n",
    "print(predicted_disease)\n",
    "\n",
    "print(\"================= Description ==================\")\n",
    "print(desc)\n",
    "\n",
    "print(\"================= Precautions ==================\")\n",
    "for i, precaution in enumerate(pre, 1):\n",
    "    print(f\"{i}. {precaution}\")\n",
    "\n",
    "print(\"================= Medications ==================\")\n",
    "for i, medication in enumerate(med, 1):\n",
    "    print(f\"{i}. {medication}\")\n",
    "\n",
    "print(\"================= Workout ==================\")\n",
    "for i, workout_recommendation in enumerate(wrkout, 1):\n",
    "    print(f\"{i}. {workout_recommendation}\")\n",
    "\n",
    "print(\"================= Diets ==================\")\n",
    "for i, diet_recommendation in enumerate(die, 1):\n",
    "    print(f\"{i}. {diet_recommendation}\")\n"
   ]
  },
  {
   "cell_type": "code",
   "execution_count": null,
   "id": "fcaea4f5-e949-40d2-80eb-bca3770ddd2c",
   "metadata": {},
   "outputs": [],
   "source": []
  }
 ],
 "metadata": {
  "kernelspec": {
   "display_name": "Python 3 (ipykernel)",
   "language": "python",
   "name": "python3"
  },
  "language_info": {
   "codemirror_mode": {
    "name": "ipython",
    "version": 3
   },
   "file_extension": ".py",
   "mimetype": "text/x-python",
   "name": "python",
   "nbconvert_exporter": "python",
   "pygments_lexer": "ipython3",
   "version": "3.11.7"
  }
 },
 "nbformat": 4,
 "nbformat_minor": 5
}
